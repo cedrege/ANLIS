{
 "cells": [
  {
   "cell_type": "markdown",
   "metadata": {},
   "source": [
    "***\n",
    "***Krümmungskreis an einer Funktion***\n",
    "***"
   ]
  },
  {
   "cell_type": "markdown",
   "metadata": {},
   "source": [
    "**Formeln:**\n",
    "\n",
    "Krümmung:  \n",
    "$\n",
    "\\begin{align}\n",
    "\\kappa(x) = \\frac{y''(x)}{(1 + (y'(x))^2)^{3/2}}\n",
    "\\end{align}\n",
    "$\n",
    "\n",
    "Krümmungskreisradius:  \n",
    "$\n",
    "\\begin{align}\n",
    "\\rho(x) = \\frac{1}{\\kappa(x)}\n",
    "\\end{align}\n",
    "$\n",
    "\n",
    "Krümmungskreiskoordinaten:  \n",
    "$\n",
    "\\vec{x}M(x) = \n",
    "\\begin{pmatrix}\n",
    "x - y'(x) \\frac{1 + (y'(x))^2}{y''(x)}\\\\\n",
    "y(x) + \\frac{1 + (y'(x))^2}{y''(x)}\n",
    "\\end{pmatrix}\n",
    "$\n"
   ]
  },
  {
   "cell_type": "code",
   "execution_count": null,
   "metadata": {},
   "outputs": [],
   "source": [
    "from numpy import linspace\n",
    "from matplotlib.pyplot import Circle, axis, grid, plot, subplots, title, xlim, ylim, gca\n",
    "from IPython.display import display, Latex, Markdown\n",
    "from sympy import diff, solve, symbols, sin, cos, exp, pi, latex\n",
    "x = symbols('x')\n",
    "\n",
    "\n",
    "def circle_of_curvature(f, x_num, do_plot=False):\n",
    "\n",
    "    # Erste Ableitung der Funktion\n",
    "    f_diff1 = diff(f, x)\n",
    "\n",
    "    # Zweite Ableitung der Funktion\n",
    "    f_diff2 = diff(f_diff1, x)\n",
    "\n",
    "    # Krümmung der Funktion an der Stelle x\n",
    "    k = f_diff2 / ((1 + f_diff1 ** 2) ** 1.5)\n",
    "\n",
    "    # Krümmungskreisradius\n",
    "    kkr = 1 / abs(k)\n",
    "\n",
    "    # Krümmungskreiskoordinaten\n",
    "    kkx = x - f_diff1 * (1 + f_diff1**2)/(f_diff2)\n",
    "    kky = f + (1 + f_diff1**2)/(f_diff2)\n",
    "\n",
    "    # Numerische Representation aller Variabeln\n",
    "    y_num = f.subs(x, x_num)\n",
    "    f_diff1_num = f_diff1.subs(x, x_num)\n",
    "    f_diff2_num = f_diff2.subs(x, x_num)\n",
    "    k_num = k.subs(x, x_num)\n",
    "    kkr_num = kkr.subs(x, x_num)\n",
    "    kkx_num = kkx.subs(x, x_num)\n",
    "    kky_num = kky.subs(x, x_num)\n",
    "\n",
    "    # Print der verschiedenen Werte mit LaTeX\n",
    "    display(Latex(f'x-Wert:$${latex(x)} = {latex(x_num)}$$'))\n",
    "    display(Latex(f'Funktion:$${latex(f)} = {latex(y_num)}$$'))\n",
    "    display(Latex(f'Erste Ableitung:$${latex(f_diff1)} = {latex(f_diff1_num)}$$'))\n",
    "    display(Latex(f'Zweite Ableitung:$${latex(f_diff2)} = {latex(f_diff2_num)}$$'))\n",
    "    display(Latex(f'Krümmung:$${latex(k)} = {latex(k_num)}$$'))\n",
    "    display(Latex(f'Krümmungskreisradius:$${latex(kkr)} = {latex(kkr_num)}$$'))\n",
    "    display(Latex(f'X-Koordinate des Krümmungskreis:$${latex(kkx)} = {latex(kkx_num)}$$'))\n",
    "    display(Latex(f'Y-Koordinate des Krümmungskreis:$${latex(kky)} = {latex(kky_num)}$$'))\n",
    "    \n",
    "    if do_plot:\n",
    "        \n",
    "        # Plotränder definieren\n",
    "        plt_min_x = float((x_num+kkx_num)/2 - kkr_num*2)\n",
    "        plt_max_x = float((x_num+kkx_num)/2 + kkr_num*2)\n",
    "        plt_min_y = float((y_num+kky_num)/2 - kkr_num*2)\n",
    "        plt_max_y = float((y_num+kky_num)/2 + kkr_num*2)\n",
    "\n",
    "        # Plotvariabeln definieren\n",
    "        fig, ax = subplots(figsize = (5, 5), dpi=100)\n",
    "        title('Krümmungskreis an einer Funktion')\n",
    "        axis('equal')\n",
    "        grid(which = 'both')\n",
    "        ax.set_axisbelow(True)\n",
    "        xlim(plt_min_x, plt_max_x)\n",
    "        ylim(plt_min_y, plt_max_y)\n",
    "        gca().set_aspect('equal', adjustable='box')\n",
    "        \n",
    "        # Punkte der Funktion berechnen\n",
    "        func_x = linspace(plt_min_x, plt_max_x, 100) \n",
    "        func_y = [f.subs(x, i) for i in func_x]  \n",
    "\n",
    "        # Plots\n",
    "        plot(func_x, func_y, 'black', linewidth=1) # Funktion\n",
    "        plot(kkx_num, kky_num, 'o', color='r', markersize=4) # Mittelpunkt des Krümmungskreises\n",
    "        plot(x_num, y_num, 'o', color='r', markersize=4) # Punkt der Berechnung an der Funktion\n",
    "        plot([x_num, kkx_num], [y_num, kky_num], 'r', linewidth=1) # Radius des Krümmungskreises an den Berechnungspunkt\n",
    "        ax.add_artist(Circle((kkx_num, kky_num), kkr_num, color='red', fill=False)) # Krümmungskreis\n",
    "        "
   ]
  },
  {
   "cell_type": "markdown",
   "metadata": {},
   "source": [
    "***\n",
    "**Syntax**  \n",
    "circle_of_curvature('Funktion', 'X-Koordinate des Krümmungskreises', 'Plot=True/False')\n",
    "***"
   ]
  },
  {
   "cell_type": "code",
   "execution_count": null,
   "metadata": {},
   "outputs": [],
   "source": [
    "circle_of_curvature(x**2, 0, do_plot=True)"
   ]
  },
  {
   "cell_type": "code",
   "execution_count": null,
   "metadata": {},
   "outputs": [],
   "source": [
    "circle_of_curvature(x**3, .5, do_plot=True)"
   ]
  },
  {
   "cell_type": "code",
   "execution_count": null,
   "metadata": {},
   "outputs": [],
   "source": [
    "circle_of_curvature(cos(x), 3*pi/4, do_plot=True)"
   ]
  },
  {
   "cell_type": "code",
   "execution_count": null,
   "metadata": {},
   "outputs": [],
   "source": []
  }
 ],
 "metadata": {
  "kernelspec": {
   "display_name": "Python 3",
   "language": "python",
   "name": "python3"
  },
  "language_info": {
   "codemirror_mode": {
    "name": "ipython",
    "version": 3
   },
   "file_extension": ".py",
   "mimetype": "text/x-python",
   "name": "python",
   "nbconvert_exporter": "python",
   "pygments_lexer": "ipython3",
   "version": "3.8.3-final"
  }
 },
 "nbformat": 4,
 "nbformat_minor": 4
}