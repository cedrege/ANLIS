{
 "cells": [
  {
   "cell_type": "markdown",
   "metadata": {},
   "source": [
    "***\n",
    "***Trapezregel***\n",
    "***"
   ]
  },
  {
   "cell_type": "code",
   "execution_count": null,
   "metadata": {},
   "outputs": [],
   "source": [
    "from sympy import diff, integrate, N, ceiling, solve, symbols, sin, cos, exp, pi, Integral, latex\n",
    "import numpy as np\n",
    "import matplotlib.pyplot as plt\n",
    "from matplotlib.patches import Polygon\n",
    "from IPython.display import display, Latex, Markdown\n",
    "from tqdm.notebook import tqdm\n",
    "\n",
    "a, b, n, x = symbols('a b n x', real=True)\n",
    "\n",
    "def trapezoidal_rule(f, boarders, intervals=None, error=None, accuracy=None, show_only_error=False, plot=False):\n",
    "    \n",
    "    if not intervals == None and not accuracy == None:\n",
    "        raise ValueError(\"'intervals' or 'accuracy' has to be of type 'None'\")\n",
    "   \n",
    "    if intervals == None and accuracy == None:\n",
    "        intervals = 1\n",
    "    \n",
    "    a, b = boarders   \n",
    "    exact_area = integrate(f,(x, a, b)) \n",
    "   \n",
    "    if not accuracy == None or not error == None:\n",
    "        if error == None:\n",
    "            error = 5 * (10 ** (-accuracy-1))\n",
    "            \n",
    "        second_derivative = diff(diff(f, x))\n",
    "        max_derivative = None\n",
    "        \n",
    "        for test_point in np.linspace(float(a), float(b), 100):          \n",
    "            test_derivative = second_derivative.subs(x, test_point)     \n",
    "            if max_derivative == None or abs(test_derivative) > abs(max_derivative):\n",
    "                max_derivative = test_derivative\n",
    "          \n",
    "        solution = solve(((b - a) ** 3 / (12 * n ** 2) * abs(max_derivative)) - error, n)     \n",
    "        \n",
    "        if not solution == []:\n",
    "            intervals = int(ceiling(max(solution)))\n",
    "        else:\n",
    "            intervals = 1 \n",
    "        \n",
    "    if show_only_error:\n",
    "        plot=False\n",
    "        print(f'Needed number of intervals for an error smaller than {error}: {intervals}')\n",
    "\n",
    "    else:\n",
    "        interval_width = (b - a) / intervals \n",
    "        aproximal_area = 0    \n",
    "        aproximal_x = []\n",
    "        aproximal_y = []\n",
    "        left_value = None\n",
    "\n",
    "        for i in range(intervals):\n",
    "            if left_value == None:\n",
    "                left_input =  a + (i * interval_width)\n",
    "                left_value = f.subs(x, left_input)\n",
    "                aproximal_x.append(left_input)\n",
    "                aproximal_y.append(left_value)\n",
    "            else:\n",
    "                left_value = right_value\n",
    "\n",
    "            right_input = a + ((i + 1) * interval_width)\n",
    "            right_value = f.subs(x, right_input)\n",
    "            aproximal_area += (interval_width / 2) * (left_value + right_value)        \n",
    "            aproximal_x.append(right_input)\n",
    "            aproximal_y.append(right_value)\n",
    "\n",
    "        if plot:\n",
    "            fa = float(a)\n",
    "            fb = float(b)\n",
    "\n",
    "            fig, ax = plt.subplots()\n",
    "\n",
    "            verts = [(fa, 0), *zip(aproximal_x, aproximal_y), (fb, 0)]\n",
    "            poly = Polygon(verts, facecolor='0.9', edgecolor='0.5')\n",
    "            ax.add_patch(poly)\n",
    "\n",
    "            if intervals < 100:\n",
    "                for i in range(1, intervals):\n",
    "                    ax.plot([aproximal_x[i], aproximal_x[i]], [0,aproximal_y[i]], '0.5', linewidth=.8)\n",
    "\n",
    "            exact_x = np.linspace(fa - (fb-fa)/10 , fb + (fb-fa)/10, 100)\n",
    "            exact_y = [f.subs(x, i) for i in exact_x]\n",
    "            ax.plot(exact_x, exact_y, 'r', linewidth=1.5)\n",
    "\n",
    "            fig.text(0.9, 0.05, '$x$')\n",
    "            fig.text(0.1, 0.9, '$y$')\n",
    "            ax.spines['right'].set_visible(False)\n",
    "            ax.spines['top'].set_visible(False)\n",
    "\n",
    "            plt.autoscale(enable=True, axis='both', tight=True)\n",
    "            plt.rcParams['figure.figsize'] = (10,4)\n",
    "            plt.show()\n",
    "\n",
    "        display(Markdown('**Aproximate the following integral with the trapezoidal rule:**'))\n",
    "        result = \"$${} = {}$$\".format(latex(Integral(f,(x, a, b))), latex(exact_area))\n",
    "        display(Latex(result))\n",
    "\n",
    "        print(f'{\"Exact area (num.):\":<20}{str(N(exact_area)):<10}')\n",
    "        print(f'{\"Aproximal area:\":<20}{N(aproximal_area):<10}')\n",
    "        print(f'{\"Difference:\":<20}{str(N(exact_area-aproximal_area)):<10}')\n",
    "        print(f'{\"Intervals:\":<20}{intervals:<10}')\n",
    "        \n",
    "    return"
   ]
  },
  {
   "cell_type": "markdown",
   "metadata": {},
   "source": [
    "trapezoidal_rule('Funktion', '(von, bis)', intervals='Anzahl Intervalle', 'Plot boolean')  \n",
    "**oder**   \n",
    "trapezoidal_rule('Funktion', '(von, bis)', accuracy='gewünschte Anzahl richtiger Kommastellen', 'Plot boolean')  \n",
    "**oder**     \n",
    "trapezoidal_rule('Funktion', '(von, bis)', error='maximaler Fehler', 'Plot boolean')\n",
    "\n",
    "**Nur Fehler berechnen:**  \n",
    "trapezoidal_rule('Funktion', '(von, bis)', (intervals= or accuracy= or error=/), show_only_error='True/False')"
   ]
  },
  {
   "cell_type": "markdown",
   "metadata": {},
   "source": [
    "***\n",
    "**SW11 Slides Seite 7**"
   ]
  },
  {
   "cell_type": "code",
   "execution_count": null,
   "metadata": {},
   "outputs": [],
   "source": [
    "trapezoidal_rule(x**2, (0, 1), accuracy=6, plot=True)"
   ]
  },
  {
   "cell_type": "markdown",
   "metadata": {},
   "source": [
    "***\n",
    "**SW11 Aufgabe 1**"
   ]
  },
  {
   "cell_type": "code",
   "execution_count": null,
   "metadata": {},
   "outputs": [],
   "source": [
    "trapezoidal_rule(exp(-x**2), (-1, 2), intervals=512, plot=True)"
   ]
  },
  {
   "cell_type": "code",
   "execution_count": null,
   "metadata": {},
   "outputs": [],
   "source": [
    "trapezoidal_rule(exp(-x**2), (-1, 2), accuracy=8, show_only_error=True)"
   ]
  },
  {
   "cell_type": "markdown",
   "metadata": {},
   "source": [
    "***\n",
    "**SW11 Aufgabe 4**"
   ]
  },
  {
   "cell_type": "code",
   "execution_count": null,
   "metadata": {},
   "outputs": [],
   "source": [
    "trapezoidal_rule(exp(-x**2), (0, 1), error=(10**(-6)), plot=True)"
   ]
  },
  {
   "cell_type": "markdown",
   "metadata": {},
   "source": [
    "***"
   ]
  },
  {
   "cell_type": "code",
   "execution_count": null,
   "metadata": {},
   "outputs": [],
   "source": [
    "trapezoidal_rule(sin(x), (0, pi), accuracy=3, plot=True)"
   ]
  },
  {
   "cell_type": "code",
   "execution_count": null,
   "metadata": {},
   "outputs": [],
   "source": [
    "\n",
    "Integral(exp(-x**2), (x, 0, 1)).as_sum(method='trapezoid')"
   ]
  },
  {
   "cell_type": "code",
   "execution_count": null,
   "metadata": {},
   "outputs": [],
   "source": [
    "trapezoidal_rule(exp(-x**2), (-1, 2), accuracy=6, plot=True)"
   ]
  },
  {
   "cell_type": "code",
   "execution_count": null,
   "metadata": {},
   "outputs": [],
   "source": []
  }
 ],
 "metadata": {
  "kernelspec": {
   "display_name": "Python 3",
   "language": "python",
   "name": "python3"
  },
  "language_info": {
   "codemirror_mode": {
    "name": "ipython",
    "version": 3
   },
   "file_extension": ".py",
   "mimetype": "text/x-python",
   "name": "python",
   "nbconvert_exporter": "python",
   "pygments_lexer": "ipython3",
   "version": "3.8.3-final"
  }
 },
 "nbformat": 4,
 "nbformat_minor": 4
}